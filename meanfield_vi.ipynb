{
 "cells": [
  {
   "cell_type": "code",
   "execution_count": 42,
   "metadata": {},
   "outputs": [],
   "source": [
    "import mlx.core as mx\n",
    "import mlx.nn as nn\n",
    "import mlx.utils as util\n",
    "\n",
    "import numpy as np\n",
    "\n",
    "import matplotlib.pyplot as plt"
   ]
  },
  {
   "cell_type": "code",
   "execution_count": 3,
   "metadata": {},
   "outputs": [],
   "source": [
    "from util import norm_logpdf, normal_like"
   ]
  },
  {
   "cell_type": "code",
   "execution_count": 47,
   "metadata": {},
   "outputs": [
    {
     "data": {
      "text/plain": [
       "array(-2.86182, dtype=float32)"
      ]
     },
     "execution_count": 47,
     "metadata": {},
     "output_type": "execute_result"
    }
   ],
   "source": [
    "x = mx.array([1., 2., 3.])\n",
    "loc = mx.array([1.4, 2.2, 2.9])\n",
    "scale = mx.array([1., 1., 1.])\n",
    "\n",
    "\n",
    "\n",
    "norm_logpdf(x, loc, scale).sum()"
   ]
  },
  {
   "cell_type": "code",
   "execution_count": 46,
   "metadata": {},
   "outputs": [
    {
     "data": {
      "image/png": "[encoded data removed]",
      "text/plain": [
       "<Figure size 640x480 with 1 Axes>"
      ]
     },
     "metadata": {},
     "output_type": "display_data"
    }
   ],
   "source": [
    "def test_normal_like():\n",
    "    class MLP(nn.Module):\n",
    "        def __init__(\n",
    "            self, num_layers: int, input_dim: int, hidden_dim: int, output_dim: int\n",
    "        ):\n",
    "            super().__init__()\n",
    "            layer_sizes = [input_dim] + [hidden_dim] * num_layers + [output_dim]\n",
    "            self.layers = [\n",
    "                nn.Linear(idim, odim)\n",
    "                for idim, odim in zip(layer_sizes[:-1], layer_sizes[1:])\n",
    "            ]\n",
    "\n",
    "        def __call__(self, x):\n",
    "            for l in self.layers[:-1]:\n",
    "                x = mx.maximum(l(x), 0.0)\n",
    "            return self.layers[-1](x)\n",
    "\n",
    "\n",
    "    params = MLP(5, 1, 4, 1).parameters()\n",
    "    flat_normal = util.tree_flatten(normal_like(params))\n",
    "\n",
    "    samples = mx.array([]).reshape(-1, 1)\n",
    "    for k,v in flat_normal:\n",
    "        v = v.reshape(-1, 1)\n",
    "        samples = mx.concatenate([samples, v])\n",
    "\n",
    "\n",
    "    samples = mx.array(samples).reshape(-1, 1)\n",
    "    samples = np.array(samples).squeeze()\n",
    "    plt.hist(samples, bins=10)\n",
    "\n",
    "test_normal_like()"
   ]
  },
  {
   "cell_type": "code",
   "execution_count": null,
   "metadata": {},
   "outputs": [],
   "source": []
  }
 ],
 "metadata": {
  "kernelspec": {
   "display_name": ".venv",
   "language": "python",
   "name": "python3"
  },
  "language_info": {
   "codemirror_mode": {
    "name": "ipython",
    "version": 3
   },
   "file_extension": ".py",
   "mimetype": "text/x-python",
   "name": "python",
   "nbconvert_exporter": "python",
   "pygments_lexer": "ipython3",
   "version": "3.11.2"
  }
 },
 "nbformat": 4,
 "nbformat_minor": 2
}
